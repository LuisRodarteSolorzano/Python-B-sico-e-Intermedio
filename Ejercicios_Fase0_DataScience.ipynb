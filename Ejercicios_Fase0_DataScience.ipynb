{
  "nbformat": 4,
  "nbformat_minor": 0,
  "metadata": {
    "colab": {
      "provenance": [],
      "authorship_tag": "ABX9TyOsTnwdx1TJByxByd6YMQcU",
      "include_colab_link": true
    },
    "kernelspec": {
      "name": "python3",
      "display_name": "Python 3"
    },
    "language_info": {
      "name": "python"
    }
  },
  "cells": [
    {
      "cell_type": "markdown",
      "metadata": {
        "id": "view-in-github",
        "colab_type": "text"
      },
      "source": [
        "<a href=\"https://colab.research.google.com/github/LuisRodarteSolorzano/Python-Basico-e-Intermedio/blob/main/Ejercicios_Fase0_DataScience.ipynb\" target=\"_parent\"><img src=\"https://colab.research.google.com/assets/colab-badge.svg\" alt=\"Open In Colab\"/></a>"
      ]
    },
    {
      "cell_type": "markdown",
      "source": [
        "# **Python desde Cero**\n",
        "\n",
        "***\n",
        "***\n",
        "## **Ejercicios**"
      ],
      "metadata": {
        "id": "FFM0j8P79jpp"
      }
    },
    {
      "cell_type": "markdown",
      "source": [
        "## Programa Crisis financiera"
      ],
      "metadata": {
        "id": "TWaoxSrjSCvT"
      }
    },
    {
      "cell_type": "code",
      "source": [
        "# Definición de variables\n",
        "valor_accion = 29.39\n",
        "# Cálculo del valor que pierde la acción\n",
        "valor_perdida = valor_accion * 0.28\n",
        "# Cálculo del valor de la acción después de la pérdida\n",
        "nuevo_valor_accion = valor_accion - valor_perdida\n",
        "# Cálculo de la proporción que necesita subir la acción\n",
        "# para recuperar su valor\n",
        "proporcion_a_subir = valor_perdida / nuevo_valor_accion\n",
        "# Transformando en porciento la proporción y redondeando\n",
        "# a dos dígitos\n",
        "porcentaje_a_subir = round(proporcion_a_subir, 2) * 100\n",
        "# Imprimimos resultado\n",
        "print(\"El porcentaje a subir es de\", porcentaje_a_subir, \"%\")"
      ],
      "metadata": {
        "id": "zHPvUFFOR6lL",
        "colab": {
          "base_uri": "https://localhost:8080/"
        },
        "outputId": "a9c7012a-31a9-44c0-c3b8-2935ca123c6d"
      },
      "execution_count": 14,
      "outputs": [
        {
          "output_type": "stream",
          "name": "stdout",
          "text": [
            "El porcentaje a subir es de 39.0 %\n"
          ]
        }
      ]
    },
    {
      "cell_type": "markdown",
      "source": [
        "## Programa Tazas de azucar"
      ],
      "metadata": {
        "id": "KyB8EBVRRP8a"
      }
    },
    {
      "cell_type": "code",
      "source": [
        "# Variables\n",
        "raciones_postre = 10\n",
        "tazas_azucar_postre = 3\n",
        "personas_banquete = 296\n",
        "tazas_azucar_por_kg = 4.5\n",
        "# Calculamos el total de tazas de azucar para todo el banquete\n",
        "tazas_azucar_banquete = personas_banquete * tazas_azucar_postre / raciones_postre\n",
        "# Calculamos el total de kg de azucar\n",
        "kgs_de_azucar = tazas_azucar_banquete / tazas_azucar_por_kg\n",
        "# Redondeamos a cero decimales\n",
        "kgs_de_azucar_completos = round(kgs_de_azucar, 0)\n",
        "# Imprimimos resultado\n",
        "print(\"Los Kg de azúcar necesarios son:\", kgs_de_azucar_completos, \"Kg\")"
      ],
      "metadata": {
        "colab": {
          "base_uri": "https://localhost:8080/"
        },
        "id": "cGMW9Z3oPjeh",
        "outputId": "42c4d6d3-76d8-4f3d-ee2d-e5ed34e383af"
      },
      "execution_count": 15,
      "outputs": [
        {
          "output_type": "stream",
          "name": "stdout",
          "text": [
            "Los Kg de azúcar necesarios son: 20.0 Kg\n"
          ]
        }
      ]
    },
    {
      "cell_type": "markdown",
      "source": [
        "## Programa Indice de masa corporal"
      ],
      "metadata": {
        "id": "5ZBHB5mQRtcW"
      }
    },
    {
      "cell_type": "code",
      "source": [
        "# Lectura de datos\n",
        "peso = float( input(\"Escribe tu peso en Kg: \") )\n",
        "estatura = float( input(\"Escribe tu estatura en metro: \") )\n",
        " \n",
        "# Calculando el índice de masa corporal\n",
        "imc = peso / estatura ** 2\n",
        "imc = round(imc, 2)\n",
        " \n",
        "# Imprimimos resultado\n",
        "print(\"Tú índice de masa corporal es:\", imc)"
      ],
      "metadata": {
        "colab": {
          "base_uri": "https://localhost:8080/"
        },
        "id": "3UJrq7_IPkAE",
        "outputId": "42eea235-6547-4689-afd1-0c22eb053f0d"
      },
      "execution_count": 2,
      "outputs": [
        {
          "output_type": "stream",
          "name": "stdout",
          "text": [
            "Escribe tu peso en Kg: 93\n",
            "Escribe tu estatura en metro: 1.73\n",
            "Tú índice de masa corporal es: 31.07\n"
          ]
        }
      ]
    },
    {
      "cell_type": "markdown",
      "source": [
        "## Programa Tabla del 7"
      ],
      "metadata": {
        "id": "jRpb0ptJRpr6"
      }
    },
    {
      "cell_type": "code",
      "source": [
        "for i in [1,2,3,4,5,6,7,8,9,10]:\n",
        "\tresultado = 7*i\n",
        "\tprint(\"7x\", i, \"=\", resultado)"
      ],
      "metadata": {
        "colab": {
          "base_uri": "https://localhost:8080/"
        },
        "id": "vA8uraOlPkUw",
        "outputId": "2971c0b8-bb2e-43fd-c2b9-3e6256fe9439"
      },
      "execution_count": 3,
      "outputs": [
        {
          "output_type": "stream",
          "name": "stdout",
          "text": [
            "7x 1 = 7\n",
            "7x 2 = 14\n",
            "7x 3 = 21\n",
            "7x 4 = 28\n",
            "7x 5 = 35\n",
            "7x 6 = 42\n",
            "7x 7 = 49\n",
            "7x 8 = 56\n",
            "7x 9 = 63\n",
            "7x 10 = 70\n"
          ]
        }
      ]
    },
    {
      "cell_type": "markdown",
      "source": [
        "## Programa Imprimiendo libros"
      ],
      "metadata": {
        "id": "3am2dAG1SyPw"
      }
    },
    {
      "cell_type": "code",
      "source": [
        "# Tenemos una sala con 10 impresoras y cada una imprime a\n",
        "# una velocidad según lo indica el fabricante y se muestra en\n",
        "# la siguiente tabla. Se desea imprimir 2000 libros y cada libro\n",
        "# está compuesto por 480 páginas. ¿Cuántas horas tardarían\n",
        "# las impresoras en hacer el trabajo?\n",
        "\n",
        "# Variables\n",
        "velocidades_por_impresora = [15, 18, 20, 12, 15, 24, 30, 22, 20, 15]\n",
        "paginas_por_libro = 480\n",
        "total_de_libros = 2000\n",
        "\n",
        "# Cálculando el total de páginas que se pueden imprimir en un minuto\n",
        "paginas_por_minuto_totales = 0\n",
        "for paginas_por_impresora in velocidades_por_impresora:\n",
        "\tpaginas_por_minuto_totales = paginas_por_minuto_totales + paginas_por_impresora\n",
        "\n",
        "# Calculamos el total de páginas\n",
        "total_de_paginas = paginas_por_libro * total_de_libros\n",
        "\n",
        "# Calculamos el total de minutos\n",
        "total_de_minutos = total_de_paginas / paginas_por_minuto_totales\n",
        "\n",
        "# Dividimos entre 60 para calcular la cantidad de horas y redondeamos\n",
        "# a dos decimales.\n",
        "total_de_horas = round(total_de_minutos / 60, 2)\n",
        "\n",
        "# Imprimimos resultado\n",
        "print(\"El total de horas para imprimir los libros es:\", total_de_horas,\n",
        "\"hrs\")"
      ],
      "metadata": {
        "colab": {
          "base_uri": "https://localhost:8080/"
        },
        "id": "6v2lT8JnPkm0",
        "outputId": "de9dbac5-56db-4655-f119-34086390337f"
      },
      "execution_count": 4,
      "outputs": [
        {
          "output_type": "stream",
          "name": "stdout",
          "text": [
            "El total de horas para imprimir los libros es: 83.77 hrs\n"
          ]
        }
      ]
    },
    {
      "cell_type": "markdown",
      "source": [
        "## Programa Longitud de palabras"
      ],
      "metadata": {
        "id": "rSCJrCRES_8N"
      }
    },
    {
      "cell_type": "code",
      "source": [
        "# Imprime la lista de las longitudes: Lorem, ipsum, dolor, sit,\n",
        "# amet, consectetur, adipiscing, elit, Curabitur, faucibus\n",
        "\n",
        "palabras = [\"Lorem\", \"ipsum\", \"dolor\", \"sit\", \"amet\", \n",
        "\"consectetur\", \"adipiscing\", \"elit\", \"Curabitur\", \"faucibus\"]\n",
        "\n",
        "for palabra in palabras:\n",
        "\tprint(len(palabra))"
      ],
      "metadata": {
        "colab": {
          "base_uri": "https://localhost:8080/"
        },
        "id": "sVzhjqMZPk1u",
        "outputId": "b2cc84d5-45f0-4db6-ae8a-6453a33ad807"
      },
      "execution_count": 5,
      "outputs": [
        {
          "output_type": "stream",
          "name": "stdout",
          "text": [
            "5\n",
            "5\n",
            "5\n",
            "3\n",
            "4\n",
            "11\n",
            "10\n",
            "4\n",
            "9\n",
            "8\n"
          ]
        }
      ]
    },
    {
      "cell_type": "markdown",
      "source": [
        "## Programa Grados Centigrados a Fahrenheit"
      ],
      "metadata": {
        "id": "l0ZPO91OUrOA"
      }
    },
    {
      "cell_type": "code",
      "source": [
        "lista_centigrados = [22.5, 23, 21.3, 20.0, 19.6, 18.0, 15.1, 14.9, 14.2, 13.7]\n",
        "lista_fahrenheit = []\n",
        "for centigrados in lista_centigrados:\n",
        "\tlista_fahrenheit.append(centigrados*9/5 + 32)\n",
        "\tprint(lista_fahrenheit)"
      ],
      "metadata": {
        "colab": {
          "base_uri": "https://localhost:8080/"
        },
        "id": "-qa1ZVJUUp06",
        "outputId": "26b2c0aa-3e0c-496a-f48b-a99abd39cdc0"
      },
      "execution_count": 6,
      "outputs": [
        {
          "output_type": "stream",
          "name": "stdout",
          "text": [
            "[72.5]\n",
            "[72.5, 73.4]\n",
            "[72.5, 73.4, 70.34]\n",
            "[72.5, 73.4, 70.34, 68.0]\n",
            "[72.5, 73.4, 70.34, 68.0, 67.28]\n",
            "[72.5, 73.4, 70.34, 68.0, 67.28, 64.4]\n",
            "[72.5, 73.4, 70.34, 68.0, 67.28, 64.4, 59.18]\n",
            "[72.5, 73.4, 70.34, 68.0, 67.28, 64.4, 59.18, 58.82]\n",
            "[72.5, 73.4, 70.34, 68.0, 67.28, 64.4, 59.18, 58.82, 57.56]\n",
            "[72.5, 73.4, 70.34, 68.0, 67.28, 64.4, 59.18, 58.82, 57.56, 56.66]\n"
          ]
        }
      ]
    },
    {
      "cell_type": "markdown",
      "source": [
        "## Programa Grados Centigrados a Fahrenheit 2"
      ],
      "metadata": {
        "id": "F198HZcRU5v4"
      }
    },
    {
      "cell_type": "code",
      "source": [
        "lista_centigrados = [22.5, 23, 21.3, 20.0, 19.6, 18.0, 15.1, 14.9, 14.2, 13.7]\n",
        "lista_fahrenheit = []\n",
        "for centigrados in lista_centigrados:\n",
        "\tlista_fahrenheit = centigrados*9/5 + 32\n",
        "\tprint(lista_fahrenheit)"
      ],
      "metadata": {
        "colab": {
          "base_uri": "https://localhost:8080/"
        },
        "id": "micrbzk1U4qZ",
        "outputId": "1167a20a-7e6e-472e-8d4a-54534c1ef2e8"
      },
      "execution_count": 7,
      "outputs": [
        {
          "output_type": "stream",
          "name": "stdout",
          "text": [
            "72.5\n",
            "73.4\n",
            "70.34\n",
            "68.0\n",
            "67.28\n",
            "64.4\n",
            "59.18\n",
            "58.82\n",
            "57.56\n",
            "56.66\n"
          ]
        }
      ]
    },
    {
      "cell_type": "markdown",
      "source": [
        "## Programa Elevar al cuadrado"
      ],
      "metadata": {
        "id": "fYi8SkEYVw4c"
      }
    },
    {
      "cell_type": "code",
      "source": [
        "for i in [1,2,3,4,5,6,7,8,9,10]:\n",
        "\tprint(i, i**2, i**3)"
      ],
      "metadata": {
        "colab": {
          "base_uri": "https://localhost:8080/"
        },
        "id": "NocczSETPlHe",
        "outputId": "afaa94bd-8c40-4e3a-f500-17b1904174a1"
      },
      "execution_count": 8,
      "outputs": [
        {
          "output_type": "stream",
          "name": "stdout",
          "text": [
            "1 1 1\n",
            "2 4 8\n",
            "3 9 27\n",
            "4 16 64\n",
            "5 25 125\n",
            "6 36 216\n",
            "7 49 343\n",
            "8 64 512\n",
            "9 81 729\n",
            "10 100 1000\n"
          ]
        }
      ]
    },
    {
      "cell_type": "markdown",
      "source": [
        "## Programa Suma de los n primeros números"
      ],
      "metadata": {
        "id": "vJtKeeOaV5Gq"
      }
    },
    {
      "cell_type": "code",
      "source": [
        "suma = 0\n",
        "for n in range(1, 101):\n",
        "\tsuma += n\n",
        "print(\"La suma es:\", suma)"
      ],
      "metadata": {
        "colab": {
          "base_uri": "https://localhost:8080/"
        },
        "id": "4r5IzsW4Pldm",
        "outputId": "ff99f159-a41d-4c60-f87c-7ccb5b4371c2"
      },
      "execution_count": 9,
      "outputs": [
        {
          "output_type": "stream",
          "name": "stdout",
          "text": [
            "La suma es: 5050\n"
          ]
        }
      ]
    },
    {
      "cell_type": "markdown",
      "source": [
        "## Programa Inversión pagaré"
      ],
      "metadata": {
        "id": "MZBLlD4vWDLc"
      }
    },
    {
      "cell_type": "code",
      "source": [
        "# Perengano invierte cierta cantidad en un pagaré en un año, \n",
        "# con una tasa de interés anual de 4.19%. Si al final del año \n",
        "# tiene $5673.00 y mes a mes se reinvierte el capital más \n",
        "# intereses, ¿Qué codigo imprime las cantidades que se han \n",
        "# reinvertido cada mes a lo largo del año?\n",
        "\n",
        "tasa_mensual = 4.19 / 100 / 12\n",
        "total = 5673.0\n",
        "for mes in range(12):\n",
        "\ttotal /= 1 + tasa_mensual\n",
        "\tprint(round(total, 2))"
      ],
      "metadata": {
        "colab": {
          "base_uri": "https://localhost:8080/"
        },
        "id": "1LxNOyX2Plt6",
        "outputId": "ca1f7afc-224a-4dfa-c173-0e16cc7b6bb8"
      },
      "execution_count": 10,
      "outputs": [
        {
          "output_type": "stream",
          "name": "stdout",
          "text": [
            "5653.26\n",
            "5633.59\n",
            "5613.99\n",
            "5594.45\n",
            "5574.99\n",
            "5555.59\n",
            "5536.26\n",
            "5517.0\n",
            "5497.8\n",
            "5478.67\n",
            "5459.61\n",
            "5440.61\n"
          ]
        }
      ]
    },
    {
      "cell_type": "markdown",
      "source": [
        "## Programa Inversión 2 años"
      ],
      "metadata": {
        "id": "oHc9kVrqWSFB"
      }
    },
    {
      "cell_type": "code",
      "source": [
        "# Jaime invierte $9000 durante 2 años, a una tasa anual de 5.89%\n",
        "# reinvertible anualmente. ¿Qué código obtiene el valor de la \n",
        "# inversión al final de los próximos 2 años?\n",
        "\n",
        "tasa_anual = 5.89 / 100\n",
        "cantidad = 9000.0\n",
        "for anio in [1, 2]:\n",
        "\tcantidad += cantidad*tasa_anual\n",
        "print(round(cantidad, 2))\n"
      ],
      "metadata": {
        "colab": {
          "base_uri": "https://localhost:8080/"
        },
        "id": "ZVsnCIwnPl_a",
        "outputId": "111ac78a-629b-4106-adbf-5898f8a1577d"
      },
      "execution_count": 11,
      "outputs": [
        {
          "output_type": "stream",
          "name": "stdout",
          "text": [
            "10091.42\n"
          ]
        }
      ]
    },
    {
      "cell_type": "markdown",
      "source": [
        "## Programa Números Capicúa"
      ],
      "metadata": {
        "id": "3020l95YWiRz"
      }
    },
    {
      "cell_type": "code",
      "source": [
        "numero = input(\"Escribe un numero entero cualquiera:\")\n",
        "invertido = numero[::-1]\n",
        "if invertido == numero:\n",
        "\tprint(\"El número escrito es capicúa\")\n",
        "else:\n",
        "\tprint(\"El número escrito no es capicúa\")"
      ],
      "metadata": {
        "colab": {
          "base_uri": "https://localhost:8080/"
        },
        "id": "SZRqHzu8Pmee",
        "outputId": "354daa85-c5ea-486a-96f5-8b62f89b054f"
      },
      "execution_count": 12,
      "outputs": [
        {
          "output_type": "stream",
          "name": "stdout",
          "text": [
            "Escribe un numero entero cualquiera:12356\n",
            "El número escrito no es capicúa\n"
          ]
        }
      ]
    },
    {
      "cell_type": "markdown",
      "source": [
        "## Programa Lista $i$, $i^2$ e $i^3$"
      ],
      "metadata": {
        "id": "1MIjScjuWx2a"
      }
    },
    {
      "cell_type": "code",
      "source": [
        "for i in [1,2,3,4,5,6,7,8,9,10]:\n",
        "\tprint(i, i**2, i**3)"
      ],
      "metadata": {
        "id": "-KdDQLnjW_12",
        "outputId": "aa2cdeda-ca15-4425-eef5-07389d055d7d",
        "colab": {
          "base_uri": "https://localhost:8080/"
        }
      },
      "execution_count": 13,
      "outputs": [
        {
          "output_type": "stream",
          "name": "stdout",
          "text": [
            "1 1 1\n",
            "2 4 8\n",
            "3 9 27\n",
            "4 16 64\n",
            "5 25 125\n",
            "6 36 216\n",
            "7 49 343\n",
            "8 64 512\n",
            "9 81 729\n",
            "10 100 1000\n"
          ]
        }
      ]
    }
  ]
}