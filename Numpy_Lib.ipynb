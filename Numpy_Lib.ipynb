{
  "nbformat": 4,
  "nbformat_minor": 0,
  "metadata": {
    "colab": {
      "provenance": []
    },
    "kernelspec": {
      "name": "python3",
      "display_name": "Python 3"
    },
    "language_info": {
      "name": "python"
    }
  },
  "cells": [
    {
      "cell_type": "code",
      "execution_count": 1,
      "metadata": {
        "colab": {
          "base_uri": "https://localhost:8080/"
        },
        "id": "BCCydUbmITZq",
        "outputId": "d903f965-0360-4e2e-e820-68fac54c5c61"
      },
      "outputs": [
        {
          "output_type": "stream",
          "name": "stdout",
          "text": [
            "Looking in indexes: https://pypi.org/simple, https://us-python.pkg.dev/colab-wheels/public/simple/\n",
            "Requirement already satisfied: numpy in /usr/local/lib/python3.8/dist-packages (1.21.6)\n"
          ]
        }
      ],
      "source": [
        "!pip install numpy"
      ]
    },
    {
      "cell_type": "code",
      "source": [
        "import numpy as np\n",
        "import matplotlib.pyplot as plt"
      ],
      "metadata": {
        "id": "wL3rstbkIbcu"
      },
      "execution_count": 2,
      "outputs": []
    },
    {
      "cell_type": "markdown",
      "source": [
        "## Create array"
      ],
      "metadata": {
        "id": "9uxUyDcIJfbd"
      }
    },
    {
      "cell_type": "code",
      "source": [
        "x = np.array((1,2,3), dtype=np.int64)"
      ],
      "metadata": {
        "id": "4l5KLgWtI2aK"
      },
      "execution_count": 3,
      "outputs": []
    },
    {
      "cell_type": "code",
      "source": [
        "x"
      ],
      "metadata": {
        "colab": {
          "base_uri": "https://localhost:8080/"
        },
        "id": "or5o926DJCrP",
        "outputId": "b91c8c1e-2cb1-44c3-bd54-a6905c5606e6"
      },
      "execution_count": 4,
      "outputs": [
        {
          "output_type": "execute_result",
          "data": {
            "text/plain": [
              "array([1, 2, 3])"
            ]
          },
          "metadata": {},
          "execution_count": 4
        }
      ]
    },
    {
      "cell_type": "code",
      "source": [
        "A = np.array([[1,2,3],[5,6,7] ])"
      ],
      "metadata": {
        "id": "rl4ap3PAJnRG"
      },
      "execution_count": 5,
      "outputs": []
    },
    {
      "cell_type": "code",
      "source": [
        "A"
      ],
      "metadata": {
        "colab": {
          "base_uri": "https://localhost:8080/"
        },
        "id": "EoDltVskKNGp",
        "outputId": "bb1ce248-c781-4c33-a2ab-e3381976d486"
      },
      "execution_count": 6,
      "outputs": [
        {
          "output_type": "execute_result",
          "data": {
            "text/plain": [
              "array([[1, 2, 3],\n",
              "       [5, 6, 7]])"
            ]
          },
          "metadata": {},
          "execution_count": 6
        }
      ]
    },
    {
      "cell_type": "code",
      "source": [
        "x = np.arange(10)"
      ],
      "metadata": {
        "id": "J4vqNJt1KNo7"
      },
      "execution_count": 7,
      "outputs": []
    },
    {
      "cell_type": "code",
      "source": [
        "np.linspace(0,100,10)"
      ],
      "metadata": {
        "colab": {
          "base_uri": "https://localhost:8080/"
        },
        "id": "c8m8hT9VKXqH",
        "outputId": "3c06b893-075a-4225-d6f4-d37ca101b1bd"
      },
      "execution_count": 8,
      "outputs": [
        {
          "output_type": "execute_result",
          "data": {
            "text/plain": [
              "array([  0.        ,  11.11111111,  22.22222222,  33.33333333,\n",
              "        44.44444444,  55.55555556,  66.66666667,  77.77777778,\n",
              "        88.88888889, 100.        ])"
            ]
          },
          "metadata": {},
          "execution_count": 8
        }
      ]
    },
    {
      "cell_type": "code",
      "source": [
        "A"
      ],
      "metadata": {
        "colab": {
          "base_uri": "https://localhost:8080/"
        },
        "id": "_C_TzHCDKofj",
        "outputId": "d084a44e-8f23-4895-ac38-fc3360245239"
      },
      "execution_count": 9,
      "outputs": [
        {
          "output_type": "execute_result",
          "data": {
            "text/plain": [
              "array([[1, 2, 3],\n",
              "       [5, 6, 7]])"
            ]
          },
          "metadata": {},
          "execution_count": 9
        }
      ]
    },
    {
      "cell_type": "code",
      "source": [
        "A.ndim"
      ],
      "metadata": {
        "colab": {
          "base_uri": "https://localhost:8080/"
        },
        "id": "B57U5RLxLGc7",
        "outputId": "1fc52bb6-e4d0-458f-f40a-286122885771"
      },
      "execution_count": 10,
      "outputs": [
        {
          "output_type": "execute_result",
          "data": {
            "text/plain": [
              "2"
            ]
          },
          "metadata": {},
          "execution_count": 10
        }
      ]
    },
    {
      "cell_type": "code",
      "source": [
        "type(A.shape)"
      ],
      "metadata": {
        "colab": {
          "base_uri": "https://localhost:8080/"
        },
        "id": "buqIhh4qLiBT",
        "outputId": "04a05632-f8be-4797-d6a2-0943e3fc023f"
      },
      "execution_count": 11,
      "outputs": [
        {
          "output_type": "execute_result",
          "data": {
            "text/plain": [
              "tuple"
            ]
          },
          "metadata": {},
          "execution_count": 11
        }
      ]
    },
    {
      "cell_type": "code",
      "source": [
        "rows, cols = A.shape"
      ],
      "metadata": {
        "id": "FZFlWZklLI4w"
      },
      "execution_count": 12,
      "outputs": []
    },
    {
      "cell_type": "code",
      "source": [
        "for i in range(rows):\n",
        "  for j in range(cols):\n",
        "    print(A[i,j])"
      ],
      "metadata": {
        "colab": {
          "base_uri": "https://localhost:8080/"
        },
        "id": "MXDXFB53LSU8",
        "outputId": "e1e63781-5241-4ad3-95ed-b6b89d14fe4a"
      },
      "execution_count": 13,
      "outputs": [
        {
          "output_type": "stream",
          "name": "stdout",
          "text": [
            "1\n",
            "2\n",
            "3\n",
            "5\n",
            "6\n",
            "7\n"
          ]
        }
      ]
    },
    {
      "cell_type": "code",
      "source": [
        "A.dtype"
      ],
      "metadata": {
        "colab": {
          "base_uri": "https://localhost:8080/"
        },
        "id": "37jSDSlTLe6X",
        "outputId": "099b477b-8ffb-4566-dcb5-3f0c3b4bdb82"
      },
      "execution_count": 14,
      "outputs": [
        {
          "output_type": "execute_result",
          "data": {
            "text/plain": [
              "dtype('int64')"
            ]
          },
          "metadata": {},
          "execution_count": 14
        }
      ]
    },
    {
      "cell_type": "code",
      "source": [
        "np.savetxt(\"A.txt\", A)"
      ],
      "metadata": {
        "id": "HHilLKsRL0hF"
      },
      "execution_count": 15,
      "outputs": []
    },
    {
      "cell_type": "code",
      "source": [
        "# /users/home/myproj/A.txt\n",
        "B = np.loadtxt(\"A.txt\")"
      ],
      "metadata": {
        "id": "ymsY3ORHMHF4"
      },
      "execution_count": 16,
      "outputs": []
    },
    {
      "cell_type": "code",
      "source": [
        "B"
      ],
      "metadata": {
        "colab": {
          "base_uri": "https://localhost:8080/"
        },
        "id": "pYFwv9OlMUQB",
        "outputId": "342b0330-3b0b-4435-c52b-139195501b3f"
      },
      "execution_count": 17,
      "outputs": [
        {
          "output_type": "execute_result",
          "data": {
            "text/plain": [
              "array([[1., 2., 3.],\n",
              "       [5., 6., 7.]])"
            ]
          },
          "metadata": {},
          "execution_count": 17
        }
      ]
    },
    {
      "cell_type": "markdown",
      "source": [
        "## Create and initialize"
      ],
      "metadata": {
        "id": "NAWPUrFgOCQG"
      }
    },
    {
      "cell_type": "code",
      "source": [
        "A = np.empty((300,2000,500))"
      ],
      "metadata": {
        "id": "T4likXNAMUlD"
      },
      "execution_count": 18,
      "outputs": []
    },
    {
      "cell_type": "code",
      "source": [
        "A.shape"
      ],
      "metadata": {
        "colab": {
          "base_uri": "https://localhost:8080/"
        },
        "id": "5TvGYpgeOGlD",
        "outputId": "bf49cfea-8a0d-4c62-93f9-58d02de7b47a"
      },
      "execution_count": 19,
      "outputs": [
        {
          "output_type": "execute_result",
          "data": {
            "text/plain": [
              "(300, 2000, 500)"
            ]
          },
          "metadata": {},
          "execution_count": 19
        }
      ]
    },
    {
      "cell_type": "code",
      "source": [
        "A = np.zeros((3,3))\n",
        "print(A)"
      ],
      "metadata": {
        "colab": {
          "base_uri": "https://localhost:8080/"
        },
        "id": "vUpYtdLWORYI",
        "outputId": "988abe22-04a9-4ad0-85ec-0d8f443a63e6"
      },
      "execution_count": 20,
      "outputs": [
        {
          "output_type": "stream",
          "name": "stdout",
          "text": [
            "[[0. 0. 0.]\n",
            " [0. 0. 0.]\n",
            " [0. 0. 0.]]\n"
          ]
        }
      ]
    },
    {
      "cell_type": "code",
      "source": [
        "np.ones((3,1))"
      ],
      "metadata": {
        "colab": {
          "base_uri": "https://localhost:8080/"
        },
        "id": "BbfB2OnqOj_U",
        "outputId": "6c39506f-678c-414b-d301-ca37508e871f"
      },
      "execution_count": 21,
      "outputs": [
        {
          "output_type": "execute_result",
          "data": {
            "text/plain": [
              "array([[1.],\n",
              "       [1.],\n",
              "       [1.]])"
            ]
          },
          "metadata": {},
          "execution_count": 21
        }
      ]
    },
    {
      "cell_type": "code",
      "source": [
        "np.eye(5)"
      ],
      "metadata": {
        "colab": {
          "base_uri": "https://localhost:8080/"
        },
        "id": "DyjN1oMDOp7J",
        "outputId": "2c271c6a-3bf8-4b8f-ea89-e582dbba6fce"
      },
      "execution_count": 22,
      "outputs": [
        {
          "output_type": "execute_result",
          "data": {
            "text/plain": [
              "array([[1., 0., 0., 0., 0.],\n",
              "       [0., 1., 0., 0., 0.],\n",
              "       [0., 0., 1., 0., 0.],\n",
              "       [0., 0., 0., 1., 0.],\n",
              "       [0., 0., 0., 0., 1.]])"
            ]
          },
          "metadata": {},
          "execution_count": 22
        }
      ]
    },
    {
      "cell_type": "code",
      "source": [
        "X = np.diag( np.arange(6, dtype=np.float64) )\n",
        "print(X)"
      ],
      "metadata": {
        "colab": {
          "base_uri": "https://localhost:8080/"
        },
        "id": "d-5t4QmvOvCS",
        "outputId": "866fed58-3a4a-454d-bcc2-d504ba6d4b06"
      },
      "execution_count": 23,
      "outputs": [
        {
          "output_type": "stream",
          "name": "stdout",
          "text": [
            "[[0. 0. 0. 0. 0. 0.]\n",
            " [0. 1. 0. 0. 0. 0.]\n",
            " [0. 0. 2. 0. 0. 0.]\n",
            " [0. 0. 0. 3. 0. 0.]\n",
            " [0. 0. 0. 0. 4. 0.]\n",
            " [0. 0. 0. 0. 0. 5.]]\n"
          ]
        }
      ]
    },
    {
      "cell_type": "code",
      "source": [
        "X.dtype"
      ],
      "metadata": {
        "colab": {
          "base_uri": "https://localhost:8080/"
        },
        "id": "fTc0odXsO22O",
        "outputId": "5958754f-cda5-4c3c-f8f2-ce71989d6555"
      },
      "execution_count": 24,
      "outputs": [
        {
          "output_type": "execute_result",
          "data": {
            "text/plain": [
              "dtype('float64')"
            ]
          },
          "metadata": {},
          "execution_count": 24
        }
      ]
    },
    {
      "cell_type": "code",
      "source": [
        "np.full((3,3), 5.0)"
      ],
      "metadata": {
        "colab": {
          "base_uri": "https://localhost:8080/"
        },
        "id": "WfeSXJOBPAvx",
        "outputId": "3176689a-1a2b-4d18-88a8-7bc26a4b19c1"
      },
      "execution_count": 25,
      "outputs": [
        {
          "output_type": "execute_result",
          "data": {
            "text/plain": [
              "array([[5., 5., 5.],\n",
              "       [5., 5., 5.],\n",
              "       [5., 5., 5.]])"
            ]
          },
          "metadata": {},
          "execution_count": 25
        }
      ]
    },
    {
      "cell_type": "code",
      "source": [
        "np.random.random((2,2))"
      ],
      "metadata": {
        "colab": {
          "base_uri": "https://localhost:8080/"
        },
        "id": "UCS5BLyTPQkS",
        "outputId": "14847e17-8900-4bd4-fc36-45ef90677fb4"
      },
      "execution_count": 26,
      "outputs": [
        {
          "output_type": "execute_result",
          "data": {
            "text/plain": [
              "array([[0.64327583, 0.73648703],\n",
              "       [0.61614874, 0.83343437]])"
            ]
          },
          "metadata": {},
          "execution_count": 26
        }
      ]
    },
    {
      "cell_type": "code",
      "source": [
        "np.random.normal(loc=0.0, scale=1.0, size=(3,3))"
      ],
      "metadata": {
        "colab": {
          "base_uri": "https://localhost:8080/"
        },
        "id": "ysiBDaMpPYbQ",
        "outputId": "ec643c2b-65ec-45cb-936c-f793c019cab5"
      },
      "execution_count": 27,
      "outputs": [
        {
          "output_type": "execute_result",
          "data": {
            "text/plain": [
              "array([[-2.87424629,  1.58768432, -1.38697335],\n",
              "       [-0.06349886, -0.3367323 , -0.5294024 ],\n",
              "       [ 0.3980701 ,  1.14061015, -0.04018597]])"
            ]
          },
          "metadata": {},
          "execution_count": 27
        }
      ]
    },
    {
      "cell_type": "code",
      "source": [
        "help(np.random.seed)"
      ],
      "metadata": {
        "colab": {
          "base_uri": "https://localhost:8080/"
        },
        "id": "bf6ZRJ8LPsrw",
        "outputId": "c2877828-7a8b-40c5-f7c3-2e21ca73c4a6"
      },
      "execution_count": 28,
      "outputs": [
        {
          "output_type": "stream",
          "name": "stdout",
          "text": [
            "Help on built-in function seed:\n",
            "\n",
            "seed(...) method of numpy.random.mtrand.RandomState instance\n",
            "    seed(self, seed=None)\n",
            "    \n",
            "    Reseed a legacy MT19937 BitGenerator\n",
            "    \n",
            "    Notes\n",
            "    -----\n",
            "    This is a convenience, legacy function.\n",
            "    \n",
            "    The best practice is to **not** reseed a BitGenerator, rather to\n",
            "    recreate a new one. This method is here for legacy reasons.\n",
            "    This example demonstrates best practice.\n",
            "    \n",
            "    >>> from numpy.random import MT19937\n",
            "    >>> from numpy.random import RandomState, SeedSequence\n",
            "    >>> rs = RandomState(MT19937(SeedSequence(123456789)))\n",
            "    # Later, you want to restart the stream\n",
            "    >>> rs = RandomState(MT19937(SeedSequence(987654321)))\n",
            "\n"
          ]
        }
      ]
    },
    {
      "cell_type": "markdown",
      "source": [
        "## Operations"
      ],
      "metadata": {
        "id": "Mspd0WIbRFED"
      }
    },
    {
      "cell_type": "code",
      "source": [
        "A = np.ones((3,3))"
      ],
      "metadata": {
        "id": "9yuF1Q-6P_Wr"
      },
      "execution_count": 29,
      "outputs": []
    },
    {
      "cell_type": "code",
      "source": [
        "B = np.full((3,3), 2.0)"
      ],
      "metadata": {
        "id": "Slzx7n3ZRVRt"
      },
      "execution_count": 30,
      "outputs": []
    },
    {
      "cell_type": "code",
      "source": [
        "A"
      ],
      "metadata": {
        "colab": {
          "base_uri": "https://localhost:8080/"
        },
        "id": "qW_w6kymRKSj",
        "outputId": "d6f01ee6-642b-4a05-ac7b-f6533ee6092c"
      },
      "execution_count": 31,
      "outputs": [
        {
          "output_type": "execute_result",
          "data": {
            "text/plain": [
              "array([[1., 1., 1.],\n",
              "       [1., 1., 1.],\n",
              "       [1., 1., 1.]])"
            ]
          },
          "metadata": {},
          "execution_count": 31
        }
      ]
    },
    {
      "cell_type": "code",
      "source": [
        "2*A"
      ],
      "metadata": {
        "colab": {
          "base_uri": "https://localhost:8080/"
        },
        "id": "b_dgKwm-RK6e",
        "outputId": "41d522c7-638d-484d-a22d-3a0319162a41"
      },
      "execution_count": 32,
      "outputs": [
        {
          "output_type": "execute_result",
          "data": {
            "text/plain": [
              "array([[2., 2., 2.],\n",
              "       [2., 2., 2.],\n",
              "       [2., 2., 2.]])"
            ]
          },
          "metadata": {},
          "execution_count": 32
        }
      ]
    },
    {
      "cell_type": "code",
      "source": [
        "A*B"
      ],
      "metadata": {
        "colab": {
          "base_uri": "https://localhost:8080/"
        },
        "id": "uTxOfgfoRNRv",
        "outputId": "3ce3f071-4e8c-435b-efa2-83b94ae3b574"
      },
      "execution_count": 33,
      "outputs": [
        {
          "output_type": "execute_result",
          "data": {
            "text/plain": [
              "array([[2., 2., 2.],\n",
              "       [2., 2., 2.],\n",
              "       [2., 2., 2.]])"
            ]
          },
          "metadata": {},
          "execution_count": 33
        }
      ]
    },
    {
      "cell_type": "code",
      "source": [
        "A@B"
      ],
      "metadata": {
        "colab": {
          "base_uri": "https://localhost:8080/"
        },
        "id": "ep2P9RjLRalx",
        "outputId": "9e0caf08-49e1-4015-e35b-693e7041b406"
      },
      "execution_count": 34,
      "outputs": [
        {
          "output_type": "execute_result",
          "data": {
            "text/plain": [
              "array([[6., 6., 6.],\n",
              "       [6., 6., 6.],\n",
              "       [6., 6., 6.]])"
            ]
          },
          "metadata": {},
          "execution_count": 34
        }
      ]
    },
    {
      "cell_type": "code",
      "source": [
        "A / 3"
      ],
      "metadata": {
        "colab": {
          "base_uri": "https://localhost:8080/"
        },
        "id": "zORiMfhVRgc_",
        "outputId": "b53e0b90-90aa-4f7b-b967-2bf011546d4a"
      },
      "execution_count": 35,
      "outputs": [
        {
          "output_type": "execute_result",
          "data": {
            "text/plain": [
              "array([[0.33333333, 0.33333333, 0.33333333],\n",
              "       [0.33333333, 0.33333333, 0.33333333],\n",
              "       [0.33333333, 0.33333333, 0.33333333]])"
            ]
          },
          "metadata": {},
          "execution_count": 35
        }
      ]
    },
    {
      "cell_type": "code",
      "source": [
        "A"
      ],
      "metadata": {
        "colab": {
          "base_uri": "https://localhost:8080/"
        },
        "id": "K15QpkGVRoSG",
        "outputId": "4f8c9a0e-e423-469f-b70c-827171eec9d3"
      },
      "execution_count": 36,
      "outputs": [
        {
          "output_type": "execute_result",
          "data": {
            "text/plain": [
              "array([[1., 1., 1.],\n",
              "       [1., 1., 1.],\n",
              "       [1., 1., 1.]])"
            ]
          },
          "metadata": {},
          "execution_count": 36
        }
      ]
    },
    {
      "cell_type": "code",
      "source": [
        "3 + A"
      ],
      "metadata": {
        "colab": {
          "base_uri": "https://localhost:8080/"
        },
        "id": "BWFiymKIRwMn",
        "outputId": "b1cb2dd9-e460-4976-c6c7-935a4a35aeb7"
      },
      "execution_count": 37,
      "outputs": [
        {
          "output_type": "execute_result",
          "data": {
            "text/plain": [
              "array([[4., 4., 4.],\n",
              "       [4., 4., 4.],\n",
              "       [4., 4., 4.]])"
            ]
          },
          "metadata": {},
          "execution_count": 37
        }
      ]
    },
    {
      "cell_type": "code",
      "source": [
        "B**3"
      ],
      "metadata": {
        "colab": {
          "base_uri": "https://localhost:8080/"
        },
        "id": "ZJwRmFfLRx0t",
        "outputId": "b46cce08-10a1-48bf-9061-1c7a3884a855"
      },
      "execution_count": 38,
      "outputs": [
        {
          "output_type": "execute_result",
          "data": {
            "text/plain": [
              "array([[8., 8., 8.],\n",
              "       [8., 8., 8.],\n",
              "       [8., 8., 8.]])"
            ]
          },
          "metadata": {},
          "execution_count": 38
        }
      ]
    },
    {
      "cell_type": "code",
      "source": [
        "A + B"
      ],
      "metadata": {
        "colab": {
          "base_uri": "https://localhost:8080/"
        },
        "id": "MHpYvWYHSDCd",
        "outputId": "0ce5056f-17a3-4cda-b1b0-e1d94872ef11"
      },
      "execution_count": 39,
      "outputs": [
        {
          "output_type": "execute_result",
          "data": {
            "text/plain": [
              "array([[3., 3., 3.],\n",
              "       [3., 3., 3.],\n",
              "       [3., 3., 3.]])"
            ]
          },
          "metadata": {},
          "execution_count": 39
        }
      ]
    },
    {
      "cell_type": "code",
      "source": [
        "A * B"
      ],
      "metadata": {
        "colab": {
          "base_uri": "https://localhost:8080/"
        },
        "id": "ZDQRWbQeSOoA",
        "outputId": "8dd4f597-22f7-4200-dfa1-439bc4b4aa69"
      },
      "execution_count": 40,
      "outputs": [
        {
          "output_type": "execute_result",
          "data": {
            "text/plain": [
              "array([[2., 2., 2.],\n",
              "       [2., 2., 2.],\n",
              "       [2., 2., 2.]])"
            ]
          },
          "metadata": {},
          "execution_count": 40
        }
      ]
    },
    {
      "cell_type": "code",
      "source": [
        "A @ B"
      ],
      "metadata": {
        "colab": {
          "base_uri": "https://localhost:8080/"
        },
        "id": "ijUDwQnaSS6f",
        "outputId": "7f96f3ef-f464-454f-c932-f22a971a54ca"
      },
      "execution_count": 41,
      "outputs": [
        {
          "output_type": "execute_result",
          "data": {
            "text/plain": [
              "array([[6., 6., 6.],\n",
              "       [6., 6., 6.],\n",
              "       [6., 6., 6.]])"
            ]
          },
          "metadata": {},
          "execution_count": 41
        }
      ]
    },
    {
      "cell_type": "code",
      "source": [
        "A.T"
      ],
      "metadata": {
        "colab": {
          "base_uri": "https://localhost:8080/"
        },
        "id": "UKeYaomWSUCG",
        "outputId": "525d837d-ee98-4b2a-8ece-c6389af9f726"
      },
      "execution_count": 42,
      "outputs": [
        {
          "output_type": "execute_result",
          "data": {
            "text/plain": [
              "array([[1., 1., 1.],\n",
              "       [1., 1., 1.],\n",
              "       [1., 1., 1.]])"
            ]
          },
          "metadata": {},
          "execution_count": 42
        }
      ]
    },
    {
      "cell_type": "code",
      "source": [
        "np.dot(A, B)"
      ],
      "metadata": {
        "colab": {
          "base_uri": "https://localhost:8080/"
        },
        "id": "dFNFI01NSZuq",
        "outputId": "2f74ae80-0ef3-4aff-95a7-d4c2baaef048"
      },
      "execution_count": 43,
      "outputs": [
        {
          "output_type": "execute_result",
          "data": {
            "text/plain": [
              "array([[6., 6., 6.],\n",
              "       [6., 6., 6.],\n",
              "       [6., 6., 6.]])"
            ]
          },
          "metadata": {},
          "execution_count": 43
        }
      ]
    },
    {
      "cell_type": "code",
      "source": [
        " np.ones((1,3)) @ np.ones((3,1))"
      ],
      "metadata": {
        "colab": {
          "base_uri": "https://localhost:8080/"
        },
        "id": "VhBwCV2XStZ4",
        "outputId": "fe844bf3-367b-4d59-9dbd-ecce40cb8a06"
      },
      "execution_count": 44,
      "outputs": [
        {
          "output_type": "execute_result",
          "data": {
            "text/plain": [
              "array([[3.]])"
            ]
          },
          "metadata": {},
          "execution_count": 44
        }
      ]
    },
    {
      "cell_type": "code",
      "source": [
        "x = np.array([3,1]).reshape((2,1))"
      ],
      "metadata": {
        "id": "bmNZbaXoTShx"
      },
      "execution_count": 45,
      "outputs": []
    },
    {
      "cell_type": "code",
      "source": [
        "x.shape"
      ],
      "metadata": {
        "colab": {
          "base_uri": "https://localhost:8080/"
        },
        "id": "D0iVauFuToqf",
        "outputId": "2c690dbd-251b-4c42-d07d-e6ac6b51a553"
      },
      "execution_count": 46,
      "outputs": [
        {
          "output_type": "execute_result",
          "data": {
            "text/plain": [
              "(2, 1)"
            ]
          },
          "metadata": {},
          "execution_count": 46
        }
      ]
    },
    {
      "cell_type": "code",
      "source": [
        "# Python index: [start, end), step -> 0,len()-1, 1"
      ],
      "metadata": {
        "id": "LjB2AQiPT_vy"
      },
      "execution_count": 47,
      "outputs": []
    },
    {
      "cell_type": "code",
      "source": [
        "x = np.arange(15)"
      ],
      "metadata": {
        "id": "-FU5Wcf7U5IF"
      },
      "execution_count": 48,
      "outputs": []
    },
    {
      "cell_type": "code",
      "source": [
        "x"
      ],
      "metadata": {
        "colab": {
          "base_uri": "https://localhost:8080/"
        },
        "id": "b3ZJuydWU8VR",
        "outputId": "b9052459-c1b5-4d50-b11c-64425c4a35f5"
      },
      "execution_count": 49,
      "outputs": [
        {
          "output_type": "execute_result",
          "data": {
            "text/plain": [
              "array([ 0,  1,  2,  3,  4,  5,  6,  7,  8,  9, 10, 11, 12, 13, 14])"
            ]
          },
          "metadata": {},
          "execution_count": 49
        }
      ]
    },
    {
      "cell_type": "code",
      "source": [
        "x[3:6:2]"
      ],
      "metadata": {
        "colab": {
          "base_uri": "https://localhost:8080/"
        },
        "id": "OtwX14oCU8zR",
        "outputId": "5ca040b2-fbca-402b-9ea9-5703f1e26962"
      },
      "execution_count": 50,
      "outputs": [
        {
          "output_type": "execute_result",
          "data": {
            "text/plain": [
              "array([3, 5])"
            ]
          },
          "metadata": {},
          "execution_count": 50
        }
      ]
    },
    {
      "cell_type": "code",
      "source": [
        "x[:]"
      ],
      "metadata": {
        "id": "u_beJpM3VO0G",
        "colab": {
          "base_uri": "https://localhost:8080/"
        },
        "outputId": "7feac764-9716-4eff-eda1-929c690aaa8f"
      },
      "execution_count": 51,
      "outputs": [
        {
          "output_type": "execute_result",
          "data": {
            "text/plain": [
              "array([ 0,  1,  2,  3,  4,  5,  6,  7,  8,  9, 10, 11, 12, 13, 14])"
            ]
          },
          "metadata": {},
          "execution_count": 51
        }
      ]
    },
    {
      "cell_type": "code",
      "source": [
        "A = np.arange(36).reshape((3,12))\n",
        "print(A)"
      ],
      "metadata": {
        "colab": {
          "base_uri": "https://localhost:8080/"
        },
        "id": "RPl30fReVlS5",
        "outputId": "bf368fcb-1921-40fe-cbec-960e990c3662"
      },
      "execution_count": 52,
      "outputs": [
        {
          "output_type": "stream",
          "name": "stdout",
          "text": [
            "[[ 0  1  2  3  4  5  6  7  8  9 10 11]\n",
            " [12 13 14 15 16 17 18 19 20 21 22 23]\n",
            " [24 25 26 27 28 29 30 31 32 33 34 35]]\n"
          ]
        }
      ]
    },
    {
      "cell_type": "code",
      "source": [
        "A[:, ::2 ] = -1"
      ],
      "metadata": {
        "id": "2N9WibBKVqZS"
      },
      "execution_count": 53,
      "outputs": []
    },
    {
      "cell_type": "code",
      "source": [
        "A"
      ],
      "metadata": {
        "id": "Ddug7bhuV52H",
        "colab": {
          "base_uri": "https://localhost:8080/"
        },
        "outputId": "03f90b23-5cbd-4b25-afe1-e017a20b9c82"
      },
      "execution_count": 54,
      "outputs": [
        {
          "output_type": "execute_result",
          "data": {
            "text/plain": [
              "array([[-1,  1, -1,  3, -1,  5, -1,  7, -1,  9, -1, 11],\n",
              "       [-1, 13, -1, 15, -1, 17, -1, 19, -1, 21, -1, 23],\n",
              "       [-1, 25, -1, 27, -1, 29, -1, 31, -1, 33, -1, 35]])"
            ]
          },
          "metadata": {},
          "execution_count": 54
        }
      ]
    },
    {
      "cell_type": "markdown",
      "source": [
        "Broadcasting"
      ],
      "metadata": {
        "id": "iDyYRzkiYTxu"
      }
    },
    {
      "cell_type": "code",
      "source": [
        "A = np.ones( (4,3,2) )"
      ],
      "metadata": {
        "id": "Ueo-OYZqXZUo"
      },
      "execution_count": 55,
      "outputs": []
    },
    {
      "cell_type": "code",
      "source": [
        "A"
      ],
      "metadata": {
        "colab": {
          "base_uri": "https://localhost:8080/"
        },
        "id": "12cT0iIdYVRG",
        "outputId": "512ee81f-b155-44fe-dbf3-a3ad7269a632"
      },
      "execution_count": 56,
      "outputs": [
        {
          "output_type": "execute_result",
          "data": {
            "text/plain": [
              "array([[[1., 1.],\n",
              "        [1., 1.],\n",
              "        [1., 1.]],\n",
              "\n",
              "       [[1., 1.],\n",
              "        [1., 1.],\n",
              "        [1., 1.]],\n",
              "\n",
              "       [[1., 1.],\n",
              "        [1., 1.],\n",
              "        [1., 1.]],\n",
              "\n",
              "       [[1., 1.],\n",
              "        [1., 1.],\n",
              "        [1., 1.]]])"
            ]
          },
          "metadata": {},
          "execution_count": 56
        }
      ]
    },
    {
      "cell_type": "code",
      "source": [
        "r = np.random.random( (1,2) )\n",
        "print(r)"
      ],
      "metadata": {
        "colab": {
          "base_uri": "https://localhost:8080/"
        },
        "id": "lcFuOdBoYVua",
        "outputId": "b7a0e7cd-7a05-4395-e2e2-a0970473df51"
      },
      "execution_count": 57,
      "outputs": [
        {
          "output_type": "stream",
          "name": "stdout",
          "text": [
            "[[0.82208026 0.94736541]]\n"
          ]
        }
      ]
    },
    {
      "cell_type": "code",
      "source": [
        "A * r"
      ],
      "metadata": {
        "colab": {
          "base_uri": "https://localhost:8080/"
        },
        "id": "DciotqALYaTQ",
        "outputId": "a1813dd4-e74c-4e11-ea84-9c97353afd8c"
      },
      "execution_count": 58,
      "outputs": [
        {
          "output_type": "execute_result",
          "data": {
            "text/plain": [
              "array([[[0.82208026, 0.94736541],\n",
              "        [0.82208026, 0.94736541],\n",
              "        [0.82208026, 0.94736541]],\n",
              "\n",
              "       [[0.82208026, 0.94736541],\n",
              "        [0.82208026, 0.94736541],\n",
              "        [0.82208026, 0.94736541]],\n",
              "\n",
              "       [[0.82208026, 0.94736541],\n",
              "        [0.82208026, 0.94736541],\n",
              "        [0.82208026, 0.94736541]],\n",
              "\n",
              "       [[0.82208026, 0.94736541],\n",
              "        [0.82208026, 0.94736541],\n",
              "        [0.82208026, 0.94736541]]])"
            ]
          },
          "metadata": {},
          "execution_count": 58
        }
      ]
    },
    {
      "cell_type": "markdown",
      "source": [
        "# np.linalg subpackage"
      ],
      "metadata": {
        "id": "Ew9DNf9YZkGh"
      }
    },
    {
      "cell_type": "code",
      "source": [
        "dir(np.linalg)"
      ],
      "metadata": {
        "colab": {
          "base_uri": "https://localhost:8080/"
        },
        "id": "36FzUi-pYaoV",
        "outputId": "4517afc2-dd72-40a8-935d-7648c576162d"
      },
      "execution_count": 59,
      "outputs": [
        {
          "output_type": "execute_result",
          "data": {
            "text/plain": [
              "['LinAlgError',\n",
              " '__all__',\n",
              " '__builtins__',\n",
              " '__cached__',\n",
              " '__doc__',\n",
              " '__file__',\n",
              " '__loader__',\n",
              " '__name__',\n",
              " '__package__',\n",
              " '__path__',\n",
              " '__spec__',\n",
              " '_umath_linalg',\n",
              " 'cholesky',\n",
              " 'cond',\n",
              " 'det',\n",
              " 'eig',\n",
              " 'eigh',\n",
              " 'eigvals',\n",
              " 'eigvalsh',\n",
              " 'inv',\n",
              " 'lapack_lite',\n",
              " 'linalg',\n",
              " 'lstsq',\n",
              " 'matrix_power',\n",
              " 'matrix_rank',\n",
              " 'multi_dot',\n",
              " 'norm',\n",
              " 'pinv',\n",
              " 'qr',\n",
              " 'slogdet',\n",
              " 'solve',\n",
              " 'svd',\n",
              " 'tensorinv',\n",
              " 'tensorsolve',\n",
              " 'test']"
            ]
          },
          "metadata": {},
          "execution_count": 59
        }
      ]
    },
    {
      "cell_type": "code",
      "source": [
        "A = np.ones((3))\n",
        "np.linalg.norm(A, ord=0)"
      ],
      "metadata": {
        "colab": {
          "base_uri": "https://localhost:8080/"
        },
        "id": "ZeNdDoSgZnr2",
        "outputId": "1727d572-03d1-4856-f0f9-90a180474243"
      },
      "execution_count": 60,
      "outputs": [
        {
          "output_type": "execute_result",
          "data": {
            "text/plain": [
              "3.0"
            ]
          },
          "metadata": {},
          "execution_count": 60
        }
      ]
    },
    {
      "cell_type": "markdown",
      "source": [
        "## Common methods"
      ],
      "metadata": {
        "id": "vmk6ccjoaRWH"
      }
    },
    {
      "cell_type": "code",
      "source": [
        "A = np.ones((3,3))"
      ],
      "metadata": {
        "id": "3GRIN2GJZ0qE"
      },
      "execution_count": 61,
      "outputs": []
    },
    {
      "cell_type": "code",
      "source": [
        "A"
      ],
      "metadata": {
        "colab": {
          "base_uri": "https://localhost:8080/"
        },
        "id": "VE-0CmJEaUIT",
        "outputId": "f7612b93-d84c-4a84-cda1-2476d5d1d9d3"
      },
      "execution_count": 62,
      "outputs": [
        {
          "output_type": "execute_result",
          "data": {
            "text/plain": [
              "array([[1., 1., 1.],\n",
              "       [1., 1., 1.],\n",
              "       [1., 1., 1.]])"
            ]
          },
          "metadata": {},
          "execution_count": 62
        }
      ]
    },
    {
      "cell_type": "code",
      "source": [
        "B = np.copy(A)"
      ],
      "metadata": {
        "id": "l4gGV1M1aUdc"
      },
      "execution_count": 63,
      "outputs": []
    },
    {
      "cell_type": "code",
      "source": [
        "print(A)\n",
        "B[:,:] = 0.0\n",
        "print(A)"
      ],
      "metadata": {
        "colab": {
          "base_uri": "https://localhost:8080/"
        },
        "id": "3s63DSysaWVe",
        "outputId": "ab965304-9f3b-4050-d23f-824372286b2c"
      },
      "execution_count": 64,
      "outputs": [
        {
          "output_type": "stream",
          "name": "stdout",
          "text": [
            "[[1. 1. 1.]\n",
            " [1. 1. 1.]\n",
            " [1. 1. 1.]]\n",
            "[[1. 1. 1.]\n",
            " [1. 1. 1.]\n",
            " [1. 1. 1.]]\n"
          ]
        }
      ]
    },
    {
      "cell_type": "code",
      "source": [
        "A = np.arange(12).reshape((2,6))"
      ],
      "metadata": {
        "id": "QbYRstRSagE5"
      },
      "execution_count": 65,
      "outputs": []
    },
    {
      "cell_type": "code",
      "source": [
        "A"
      ],
      "metadata": {
        "colab": {
          "base_uri": "https://localhost:8080/"
        },
        "id": "BoTC3qeSbpGa",
        "outputId": "3ad30732-67e7-4c7c-9b3a-814e29c2f02b"
      },
      "execution_count": 66,
      "outputs": [
        {
          "output_type": "execute_result",
          "data": {
            "text/plain": [
              "array([[ 0,  1,  2,  3,  4,  5],\n",
              "       [ 6,  7,  8,  9, 10, 11]])"
            ]
          },
          "metadata": {},
          "execution_count": 66
        }
      ]
    },
    {
      "cell_type": "code",
      "source": [
        "A = np.eye(3)"
      ],
      "metadata": {
        "id": "6lGFOzssbpa8"
      },
      "execution_count": 67,
      "outputs": []
    },
    {
      "cell_type": "code",
      "source": [
        "A"
      ],
      "metadata": {
        "colab": {
          "base_uri": "https://localhost:8080/"
        },
        "id": "B9y60GVfbvn2",
        "outputId": "28d8bd3f-1b74-4390-c707-85ae00966cb3"
      },
      "execution_count": 68,
      "outputs": [
        {
          "output_type": "execute_result",
          "data": {
            "text/plain": [
              "array([[1., 0., 0.],\n",
              "       [0., 1., 0.],\n",
              "       [0., 0., 1.]])"
            ]
          },
          "metadata": {},
          "execution_count": 68
        }
      ]
    },
    {
      "cell_type": "code",
      "source": [
        "np.clip(A, 0,0)"
      ],
      "metadata": {
        "colab": {
          "base_uri": "https://localhost:8080/"
        },
        "id": "qK3U44dYcmX1",
        "outputId": "902b7228-6e86-457b-fafa-a5c911e3f3f9"
      },
      "execution_count": 69,
      "outputs": [
        {
          "output_type": "execute_result",
          "data": {
            "text/plain": [
              "array([[0., 0., 0.],\n",
              "       [0., 0., 0.],\n",
              "       [0., 0., 0.]])"
            ]
          },
          "metadata": {},
          "execution_count": 69
        }
      ]
    },
    {
      "cell_type": "code",
      "source": [
        "A = np.full((3,3), 1.0)\n",
        "B = np.full((3,3), 2.0)\n",
        "C = np.full((3,3), 3.0)"
      ],
      "metadata": {
        "id": "yT3x648Fc1mw"
      },
      "execution_count": 70,
      "outputs": []
    },
    {
      "cell_type": "code",
      "source": [
        "np.concatenate([A, B, C], axis=1)"
      ],
      "metadata": {
        "colab": {
          "base_uri": "https://localhost:8080/"
        },
        "id": "mvPvLjHldNaL",
        "outputId": "ca56b142-2668-4e5e-ea48-d6b50250e0da"
      },
      "execution_count": 71,
      "outputs": [
        {
          "output_type": "execute_result",
          "data": {
            "text/plain": [
              "array([[1., 1., 1., 2., 2., 2., 3., 3., 3.],\n",
              "       [1., 1., 1., 2., 2., 2., 3., 3., 3.],\n",
              "       [1., 1., 1., 2., 2., 2., 3., 3., 3.]])"
            ]
          },
          "metadata": {},
          "execution_count": 71
        }
      ]
    },
    {
      "cell_type": "code",
      "source": [
        "np.stack([A, B, C], axis=0)"
      ],
      "metadata": {
        "colab": {
          "base_uri": "https://localhost:8080/"
        },
        "id": "f6fDvDD_dVzr",
        "outputId": "6dadfe51-9ae4-4b27-bc4e-5e7e7def621e"
      },
      "execution_count": 72,
      "outputs": [
        {
          "output_type": "execute_result",
          "data": {
            "text/plain": [
              "array([[[1., 1., 1.],\n",
              "        [1., 1., 1.],\n",
              "        [1., 1., 1.]],\n",
              "\n",
              "       [[2., 2., 2.],\n",
              "        [2., 2., 2.],\n",
              "        [2., 2., 2.]],\n",
              "\n",
              "       [[3., 3., 3.],\n",
              "        [3., 3., 3.],\n",
              "        [3., 3., 3.]]])"
            ]
          },
          "metadata": {},
          "execution_count": 72
        }
      ]
    },
    {
      "cell_type": "code",
      "source": [
        "A"
      ],
      "metadata": {
        "colab": {
          "base_uri": "https://localhost:8080/"
        },
        "id": "YjLZrnzwdszE",
        "outputId": "88b0674e-b4f6-4f5d-f017-0898e321912f"
      },
      "execution_count": 73,
      "outputs": [
        {
          "output_type": "execute_result",
          "data": {
            "text/plain": [
              "array([[1., 1., 1.],\n",
              "       [1., 1., 1.],\n",
              "       [1., 1., 1.]])"
            ]
          },
          "metadata": {},
          "execution_count": 73
        }
      ]
    },
    {
      "cell_type": "code",
      "source": [
        "np.sum( A, axis=0 )"
      ],
      "metadata": {
        "colab": {
          "base_uri": "https://localhost:8080/"
        },
        "id": "T9bn2wtqdgE-",
        "outputId": "f2435bb0-3121-42da-fe10-8fbfbf5f6c64"
      },
      "execution_count": 74,
      "outputs": [
        {
          "output_type": "execute_result",
          "data": {
            "text/plain": [
              "array([3., 3., 3.])"
            ]
          },
          "metadata": {},
          "execution_count": 74
        }
      ]
    },
    {
      "cell_type": "markdown",
      "source": [
        "## Template for general plots in python"
      ],
      "metadata": {
        "id": "o3jc9R9BeXJd"
      }
    },
    {
      "cell_type": "code",
      "source": [],
      "metadata": {
        "id": "XawkijQvdvMe"
      },
      "execution_count": 74,
      "outputs": []
    },
    {
      "cell_type": "code",
      "source": [
        "x = np.arange(10)\n",
        "y = 2*x + 0.5\n",
        "\n",
        "xmin, xmax = min(x), max(x)\n",
        "ymin, ymax = min(y), max(y)"
      ],
      "metadata": {
        "id": "JsEIgvCZfOoH"
      },
      "execution_count": 75,
      "outputs": []
    },
    {
      "cell_type": "code",
      "source": [
        "# First you create the canvs\n",
        "fig1, ax1 = plt.subplots( nrows= 1, ncols=1, figsize = (10, 7.5) )\n",
        "\n",
        "# Customize your x-y-axis\n",
        "ax1.set_xticks( np.linspace(int(xmin) - 1, int(xmax) + 1, 5) )\n",
        "ax1.set_yticks( np.linspace(int(ymin) - 1, int(ymax) + 1, 5) )\n",
        "ax1.tick_params(axis='both', labelsize=12)\n",
        "\n",
        "ax1.set_xlabel( 'x-axis', fontsize=16 )\n",
        "ax1.set_ylabel( 'y-axis', fontsize=16 )\n",
        "\n",
        "# The specific plot you want\n",
        "ax1.scatter(x, y, marker ='x', color='blue', label='MyPoints' )\n",
        "\n",
        "# General info (title, grid lines)\n",
        "ax1.set_title( 'Simple Plot', fontsize=14 )\n",
        "ax1.legend( loc='upper left' )\n",
        "ax1.grid( b=True )\n",
        "\n",
        "fig1"
      ],
      "metadata": {
        "colab": {
          "base_uri": "https://localhost:8080/",
          "height": 973
        },
        "id": "Qw5ewPaSe3wy",
        "outputId": "96640519-7f09-4a91-e185-abcd8d2f39ab"
      },
      "execution_count": 76,
      "outputs": [
        {
          "output_type": "execute_result",
          "data": {
            "text/plain": [
              "<Figure size 720x540 with 1 Axes>"
            ],
            "image/png": "[encoded data removed]"
          },
          "metadata": {},
          "execution_count": 76
        },
        {
          "output_type": "display_data",
          "data": {
            "text/plain": [
              "<Figure size 720x540 with 1 Axes>"
            ],
            "image/png": "[encoded data removed]"
          },
          "metadata": {
            "needs_background": "light"
          }
        }
      ]
    },
    {
      "cell_type": "code",
      "source": [
        "fig1.savefig('SimplePlot.png', dpi=200)"
      ],
      "metadata": {
        "id": "okVKuByhfjgF"
      },
      "execution_count": 77,
      "outputs": []
    },
    {
      "cell_type": "code",
      "source": [],
      "metadata": {
        "id": "IMuBPvrTgM-_"
      },
      "execution_count": 77,
      "outputs": []
    }
  ]
}